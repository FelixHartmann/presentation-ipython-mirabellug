{
 "metadata": {
  "name": "demo_Mirabellug_trous"
 },
 "nbformat": 3,
 "nbformat_minor": 0,
 "worksheets": [
  {
   "cells": [
    {
     "cell_type": "heading",
     "level": 1,
     "metadata": {},
     "source": [
      "Notebook de d\u00e9monstration pour le Mirabellug"
     ]
    },
    {
     "cell_type": "markdown",
     "metadata": {},
     "source": [
      "*Le vendredi 7 juin 2012, par F\u00e9lix*"
     ]
    },
    {
     "cell_type": "markdown",
     "metadata": {},
     "source": [
      "Ce document fait un petit tour des capacit\u00e9s du Notebook IPython.\n",
      "\n",
      "Vous pouvez ex\u00e9cuter chaque cellule en tapant `Shift-Enter` (`Maj-Entr\u00e9e`), sauf bien s\u00fbr si vous \u00eates en train de visualiser une version statique de ce notebook via nbviewer."
     ]
    },
    {
     "cell_type": "heading",
     "level": 2,
     "metadata": {},
     "source": [
      "Commandes bash"
     ]
    },
    {
     "cell_type": "markdown",
     "metadata": {},
     "source": [
      "Les commandes bash de bases sont directement appelables dans IPython :"
     ]
    },
    {
     "cell_type": "code",
     "collapsed": false,
     "input": [
      "pwd"
     ],
     "language": "python",
     "metadata": {},
     "outputs": []
    },
    {
     "cell_type": "code",
     "collapsed": false,
     "input": [
      "ls *"
     ],
     "language": "python",
     "metadata": {},
     "outputs": []
    },
    {
     "cell_type": "markdown",
     "metadata": {},
     "source": [
      "Leur sortie peut \u00eatre r\u00e9cup\u00e9r\u00e9e dans une liste Python en les faisant pr\u00e9c\u00e9der d'un point d'exclamation :"
     ]
    },
    {
     "cell_type": "code",
     "collapsed": false,
     "input": [
      "files = !ls *"
     ],
     "language": "python",
     "metadata": {},
     "outputs": []
    },
    {
     "cell_type": "code",
     "collapsed": false,
     "input": [
      "files"
     ],
     "language": "python",
     "metadata": {},
     "outputs": []
    },
    {
     "cell_type": "heading",
     "level": 2,
     "metadata": {},
     "source": [
      "Acc\u00e8s interactif \u00e0 la documentation"
     ]
    },
    {
     "cell_type": "markdown",
     "metadata": {},
     "source": [
      "IPython g\u00e8re l'autocompl\u00e9tion (`Tab`) et permet d'acc\u00e9der interactivement \u00e0 la documentation des m\u00e9thodes, des classes et des modules. Par exemple, importons le module **bisect** :"
     ]
    },
    {
     "cell_type": "code",
     "collapsed": false,
     "input": [
      "import bisect"
     ],
     "language": "python",
     "metadata": {},
     "outputs": []
    },
    {
     "cell_type": "markdown",
     "metadata": {},
     "source": [
      "On peut obtenir sa documentation (*docstring*) avec un point d'exclamation :"
     ]
    },
    {
     "cell_type": "code",
     "collapsed": false,
     "input": [
      "bisect?"
     ],
     "language": "python",
     "metadata": {},
     "outputs": []
    },
    {
     "cell_type": "markdown",
     "metadata": {},
     "source": [
      "Et tout le code du module avec deux points d'exclamation ;"
     ]
    },
    {
     "cell_type": "code",
     "collapsed": false,
     "input": [
      "bisect??"
     ],
     "language": "python",
     "metadata": {},
     "outputs": []
    },
    {
     "cell_type": "markdown",
     "metadata": {},
     "source": [
      "M\u00eame chose avec une m\u00e9thode. Dans ce cas, on peut aussi ouvrir une parenth\u00e8se et appuyer sur `Tab` pour faire apparaitre une info-bulle :"
     ]
    },
    {
     "cell_type": "code",
     "collapsed": false,
     "input": [
      "bisect.bisect_right?"
     ],
     "language": "python",
     "metadata": {},
     "outputs": []
    },
    {
     "cell_type": "markdown",
     "metadata": {},
     "source": [
      "## Affichage am\u00e9lior\u00e9 des erreurs d'ex\u00e9cution"
     ]
    },
    {
     "cell_type": "code",
     "collapsed": false,
     "input": [
      "import math\n",
      "def f(a, b):\n",
      "    return a*math.cos(2*math.pi/b)"
     ],
     "language": "python",
     "metadata": {},
     "outputs": []
    },
    {
     "cell_type": "code",
     "collapsed": false,
     "input": [
      "f(1, 2)"
     ],
     "language": "python",
     "metadata": {},
     "outputs": []
    },
    {
     "cell_type": "code",
     "collapsed": false,
     "input": [
      "f(1, 0)"
     ],
     "language": "python",
     "metadata": {},
     "outputs": []
    },
    {
     "cell_type": "markdown",
     "metadata": {},
     "source": [
      "Les sorties d'un morceau d'un morceau de code s'affichent en temps r\u00e9el (un peu hors-sujet dans cette partie, mais je ne savais pas o\u00f9 le caser) :"
     ]
    },
    {
     "cell_type": "code",
     "collapsed": false,
     "input": [
      "import time\n",
      "for i in range(10):\n",
      "    print i,\n",
      "    time.sleep(0.5)"
     ],
     "language": "python",
     "metadata": {},
     "outputs": []
    },
    {
     "cell_type": "markdown",
     "metadata": {},
     "source": [
      "## Images et vid\u00e9os"
     ]
    },
    {
     "cell_type": "markdown",
     "metadata": {},
     "source": [
      "Le Notebook affiche des images, de l'HTML et m\u00eame des vid\u00e9os."
     ]
    },
    {
     "cell_type": "code",
     "collapsed": false,
     "input": [
      "from IPython.core.display import Image\n",
      "Image(filename='mirabellug.jpeg')  # fichier local"
     ],
     "language": "python",
     "metadata": {},
     "outputs": []
    },
    {
     "cell_type": "code",
     "collapsed": false,
     "input": [
      "Image('http://ipython.org/_static/IPy_header.png')"
     ],
     "language": "python",
     "metadata": {},
     "outputs": []
    },
    {
     "cell_type": "code",
     "collapsed": false,
     "input": [
      "from IPython.display import HTML"
     ],
     "language": "python",
     "metadata": {},
     "outputs": []
    },
    {
     "cell_type": "code",
     "collapsed": false,
     "input": [
      "s = \"\"\"<table>\n",
      "<tr>\n",
      "<th>Header 1</th>\n",
      "<th>Header 2</th>\n",
      "</tr>\n",
      "<tr>\n",
      "<td>row 1, cell 1</td>\n",
      "<td>row 1, cell 2</td>\n",
      "</tr>\n",
      "<tr>\n",
      "<td>row 2, cell 1</td>\n",
      "<td>row 2, cell 2</td>\n",
      "</tr>\n",
      "</table>\"\"\""
     ],
     "language": "python",
     "metadata": {},
     "outputs": []
    },
    {
     "cell_type": "code",
     "collapsed": false,
     "input": [
      "h = HTML(s)\n",
      "h"
     ],
     "language": "python",
     "metadata": {},
     "outputs": []
    },
    {
     "cell_type": "code",
     "collapsed": false,
     "input": [
      "HTML(\"<iframe src=http://www.mirabellug.org width=1000 height=500>\")"
     ],
     "language": "python",
     "metadata": {},
     "outputs": []
    },
    {
     "cell_type": "code",
     "collapsed": false,
     "input": [
      "from IPython.lib.display import YouTubeVideo\n",
      "YouTubeVideo(\"t4gjl-uwUHc\")"
     ],
     "language": "python",
     "metadata": {},
     "outputs": []
    },
    {
     "cell_type": "markdown",
     "metadata": {},
     "source": [
      "## Texte en Markdown"
     ]
    },
    {
     "cell_type": "markdown",
     "metadata": {},
     "source": [
      "On peut ins\u00e9rer du texte, avec des titres de diff\u00e9rents niveaux, des parties en **gras**, en *italique*, ou \u00e0 `chasse fixe`."
     ]
    },
    {
     "cell_type": "markdown",
     "metadata": {},
     "source": [
      "Mais \u00e9galement des listes :\n",
      "\n",
      "* la vie\n",
      "* l'Univers\n",
      "* le reste"
     ]
    },
    {
     "cell_type": "markdown",
     "metadata": {},
     "source": [
      "Des \u00e9num\u00e9rations :\n",
      "\n",
      "1. Lancer `ipython notebook`\n",
      "2. Cr\u00e9er un nouveau Notebook.\n",
      "3. Have fun!"
     ]
    },
    {
     "cell_type": "markdown",
     "metadata": {},
     "source": [
      "Et bien s\u00fbr, des \u00e9quations (avec la syntaxe LaTeX, gr\u00e2ce \u00e0 MathJax). Exemple avec cette formule pour calculer $\\pi$ :"
     ]
    },
    {
     "cell_type": "markdown",
     "metadata": {},
     "source": [
      "$$\\frac{2}{\\pi} = \\frac{\\sqrt2}2 \\cdot \\frac{\\sqrt{2+\\sqrt2}}2 \\cdot \\frac{\\sqrt{2+\\sqrt{2+\\sqrt2}}}2 \\cdot \\cdots$$"
     ]
    },
    {
     "cell_type": "markdown",
     "metadata": {},
     "source": [
      "Ou la d\u00e9finition de la fonction exponentielle :"
     ]
    },
    {
     "cell_type": "markdown",
     "metadata": {},
     "source": [
      "$$e^x = \\sum_{n=0}^{\\infty} \\frac{x^n}{n!}$$"
     ]
    },
    {
     "cell_type": "markdown",
     "metadata": {},
     "source": [
      "M\u00eame du code, en indentant le texte:\n",
      "\n",
      "    def rend_pair(x):\n",
      "        \"\"\"Ajoute 1 \u00e0 x si x est impair.\"\"\"\n",
      "        return x + x % 2\n"
     ]
    },
    {
     "cell_type": "markdown",
     "metadata": {},
     "source": [
      "## Tra\u00e7ons des graphes"
     ]
    },
    {
     "cell_type": "markdown",
     "metadata": {},
     "source": [
      "Numpy est une biblioth\u00e8que pour le calcul num\u00e9rique.\n",
      "\n",
      "Matplotlib est une biblioth\u00e8que pour le trac\u00e9 de graphiques.\n",
      "\n",
      "Dans IPython, la commande `%pylab` importe dans l'espace de noms courant un grand nombre de fonctions de ces deux biblioth\u00e8ques. L'option `inline` permet d'afficher les graphes directement dans le navigateur.\n",
      "\n",
      "Pour en savoir plus sur les imports r\u00e9alis\u00e9s par `%pylab`, lisez le script '/usr/lib/pymodules/python2.7/matplotlib/pylab.py'."
     ]
    },
    {
     "cell_type": "code",
     "collapsed": false,
     "input": [
      "%pylab inline"
     ],
     "language": "python",
     "metadata": {},
     "outputs": []
    },
    {
     "cell_type": "markdown",
     "metadata": {},
     "source": [
      "Les deux objets fondamentaux de Matplotlib sont les figures et les axes.\n",
      "\n",
      "* Un axe est en cadre dans lequel on peut afficher des objets graphiques.\n",
      "* Une figure contient des axes, dispos\u00e9s selon un quadrillage."
     ]
    },
    {
     "cell_type": "markdown",
     "metadata": {},
     "source": [
      "Comme premier exemple, on va cr\u00e9er une figure contenant deux axes. On va tracer dans le premier des fonctions trigonom\u00e9triques, et dans l'autre des polyn\u00f4mes."
     ]
    },
    {
     "cell_type": "code",
     "collapsed": false,
     "input": [
      "f, (ax1, ax2) = subplots(ncols=2)    # renvoie une figure et deux axes associ\u00e9s sur deux colonnes\n",
      "x = linspace(0, 2*pi, 50)       # tableau de 50 points uniform\u00e9ment r\u00e9partis entre 0 et 2pi\n",
      "line1, = ax1.plot(x, sin(x), 'b-')   # courbe de la fonction sinus, en trait continu bleu\n",
      "line2, = ax1.plot(x, cos(x), '-', color='#333333')   # fonction cosinus, en trait continu et couleur d\u00e9finie par un code rgb\n",
      "line3, = ax2.plot(x, x**2, 'g-')   # parabole, en vert \n",
      "line4, = ax2.plot(x, 9*x - 4*x**2 + 0.5*x**3, 'k-')    # polyn\u00f4me plus complexe, en noir"
     ],
     "language": "python",
     "metadata": {},
     "outputs": []
    },
    {
     "cell_type": "markdown",
     "metadata": {},
     "source": [
      "On peut modifier *a posteriori* les propri\u00e9t\u00e9s des axes\u2026"
     ]
    },
    {
     "cell_type": "code",
     "collapsed": false,
     "input": [
      "ax1.set_title(\"Sin et cos\", fontsize=20)\n",
      "ax2.set_title(u\"Polyn\u00f4mes\", fontsize=20)\n",
      "ax1.set_xlabel(\"x\", fontsize=16)\n",
      "ax2.set_xlabel(\"x\", fontsize=16)\n",
      "ax1.set_ylabel(\"y\", fontsize=16)\n",
      "ax1.grid(True)\n",
      "ax2.grid(True)\n",
      "line2.set_color('#00adef')\n",
      "line3.set_marker('*')"
     ],
     "language": "python",
     "metadata": {},
     "outputs": []
    },
    {
     "cell_type": "markdown",
     "metadata": {},
     "source": [
      "...et r\u00e9afficher."
     ]
    },
    {
     "cell_type": "code",
     "collapsed": false,
     "input": [
      "f"
     ],
     "language": "python",
     "metadata": {},
     "outputs": []
    },
    {
     "cell_type": "markdown",
     "metadata": {},
     "source": [
      "### Exemples \u00e0 partir des sorties d'un simulateur de croissance de peuplements forestiers (projet INRA)"
     ]
    },
    {
     "cell_type": "markdown",
     "metadata": {},
     "source": [
      "Pour illustrer la puissance du Matplotlib et d'IPython dans la repr\u00e9sentation de donn\u00e9es, on va utiliser les r\u00e9sultats du simulateur Fagac\u00e9e.\n",
      "\n",
      "Fagac\u00e9e simule la croissance d'un peuplement forestier en fonction du sc\u00e9nario sylvicole suivi (c'est-\u00e0-dire la fa\u00e7on de g\u00e9rer le peuplement). Dans notre exemple, on a simul\u00e9 un si\u00e8cle de croissance suivant deux sc\u00e9narios diff\u00e9rents. Dans le premier, on laisse le peuplement croitre librement ; dans le deuxi\u00e8me on pratique plusieurs \u00e9claircies (\u00e9claircie = abattage de certains arbres pour favoriser la croissance de plus prometteurs)."
     ]
    },
    {
     "cell_type": "markdown",
     "metadata": {},
     "source": [
      "Les quatres fichiers de donn\u00e9es sont :\n",
      "\n",
      "* `evolution_diametre_avec_eclaircies.csv` : \u00e9volution temporelle des diam\u00e8tres moyen et dominant (= arbre le plus haut) sans \u00e9claircies\n",
      "* `evolution_diametre_sans_eclaircies.csv` : idem avec \u00e9claircies\n",
      "* `classes_diametre_sans_eclaircies.csv` : r\u00e9partition des arbres par classes de diam\u00e8tre au bout d'un si\u00e8cle (sans \u00e9claircies)\n",
      "* `classes_diametre_avec_eclaircies.csv` : idem avec \u00e9claircies"
     ]
    },
    {
     "cell_type": "markdown",
     "metadata": {},
     "source": [
      "#### Diam\u00e8tre dominant et diam\u00e8tre moyen au cours du temps"
     ]
    },
    {
     "cell_type": "markdown",
     "metadata": {},
     "source": [
      "* sans \u00e9claircies"
     ]
    },
    {
     "cell_type": "markdown",
     "metadata": {},
     "source": [
      "La fonction `genfromtxt` lit un fichier texte et stocke les donn\u00e9es dans un tableau (array) Numpy :"
     ]
    },
    {
     "cell_type": "code",
     "collapsed": false,
     "input": [
      "Devol_sans = genfromtxt(\"evolution_diametre_sans_eclaircies.csv\", skiprows=1, names=True, delimiter=\";\") "
     ],
     "language": "python",
     "metadata": {},
     "outputs": []
    },
    {
     "cell_type": "code",
     "collapsed": false,
     "input": [
      "Devol_sans['Dmoy']"
     ],
     "language": "python",
     "metadata": {},
     "outputs": []
    },
    {
     "cell_type": "code",
     "collapsed": false,
     "input": [
      "plot(Devol_sans['temps'], Devol_sans['Ddom'], 'k--')"
     ],
     "language": "python",
     "metadata": {},
     "outputs": []
    },
    {
     "cell_type": "code",
     "collapsed": false,
     "input": [
      "plot(Devol_sans['temps'], Devol_sans['Ddom'], 'k--', label=u'Diam\u00e8tre dominant (cm)')\n",
      "plot(Devol_sans['temps'], Devol_sans['Dmoy'], 'b--', label=u'Diam\u00e8tre moyen (cm)')\n",
      "legend(loc='upper left')\n",
      "grid(True)\n",
      "title(u\"\u00c9volution des diam\u00e8tres dominant et moyen\\nen l'absence d'\u00e9claircie\", fontsize=14)\n",
      "xlabel(u\"\u00c2ge du peuplement (ann\u00e9es)\", fontsize=12)"
     ],
     "language": "python",
     "metadata": {},
     "outputs": []
    },
    {
     "cell_type": "markdown",
     "metadata": {},
     "source": [
      "* avec \u00e9claircies"
     ]
    },
    {
     "cell_type": "code",
     "collapsed": false,
     "input": [
      "Devol_avec = genfromtxt(\"evolution_diametre_avec_eclaircies.csv\", skiprows=1, names=True, delimiter=\";\") "
     ],
     "language": "python",
     "metadata": {},
     "outputs": []
    },
    {
     "cell_type": "code",
     "collapsed": false,
     "input": [
      "plot(Devol_avec['temps'], Devol_avec['Ddom'], 'k--', label=u'Diam\u00e8tre dominant (cm)')\n",
      "plot(Devol_avec['temps'], Devol_avec['Dmoy'], 'b--', label=u'Diam\u00e8tre moyen (cm)')\n",
      "grid(True)\n",
      "legend(loc='upper left')\n",
      "title(u\"\u00c9volution des diam\u00e8tres dominant et moyen\\navec des \u00e9claircies\", fontsize=14)\n",
      "xlabel(u\"\u00c2ge du peuplement (ann\u00e9es)\", fontsize=12)"
     ],
     "language": "python",
     "metadata": {},
     "outputs": []
    },
    {
     "cell_type": "markdown",
     "metadata": {},
     "source": [
      "* comparaison"
     ]
    },
    {
     "cell_type": "code",
     "collapsed": false,
     "input": [
      "f, (ax1, ax2) = subplots(ncols=2, figsize=(10,6))\n",
      "ax1.plot(Devol_sans['temps'], Devol_sans['Ddom'], 'k--', label=u'Diam\u00e8tre dominant (cm)')\n",
      "ax1.plot(Devol_sans['temps'], Devol_sans['Dmoy'], 'b--', label=u'Diam\u00e8tre moyen (cm)')\n",
      "ax1.grid(True)\n",
      "ax1.legend(loc='upper left')   # l\u00e9gende en haut \u00e0 gauche de l'axe\n",
      "ax1.set_title(u\"Sans \u00e9claircies\")\n",
      "ax2.plot(Devol_avec['temps'], Devol_avec['Ddom'], 'k--', label=u'Diam\u00e8tre dominant (cm)')\n",
      "ax2.plot(Devol_avec['temps'], Devol_avec['Dmoy'], 'b--', label=u'Diam\u00e8tre moyen (cm)')\n",
      "ax2.grid(True)\n",
      "ax2.legend(loc='upper left')\n",
      "ax2.set_title(u\"Avec \u00e9claircies\")"
     ],
     "language": "python",
     "metadata": {},
     "outputs": []
    },
    {
     "cell_type": "markdown",
     "metadata": {},
     "source": [
      "On constate qu'avec des \u00e9claircies, les diam\u00e8tres finals sont plus gros et tous les arbres atteignent \u00e0 peu pr\u00e8s le m\u00eame diam\u00e8tre."
     ]
    },
    {
     "cell_type": "markdown",
     "metadata": {},
     "source": [
      "#### Distribution des diam\u00e8tres au bout de 100 ans"
     ]
    },
    {
     "cell_type": "markdown",
     "metadata": {},
     "source": [
      "Cette fois, on va tracer des histogrammes."
     ]
    },
    {
     "cell_type": "code",
     "collapsed": false,
     "input": [
      "Ddistrib_sans = genfromtxt(\"classes_diametre_sans_eclaircies.csv\", skiprows=1, names=True, dtype=['S5', 'i'], delimiter=\";\")"
     ],
     "language": "python",
     "metadata": {},
     "outputs": []
    },
    {
     "cell_type": "code",
     "collapsed": false,
     "input": [
      "nb_classes = Ddistrib_sans.size\n",
      "fig, ax = subplots(figsize=(7,4))\n",
      "ax.set_xlabel(u\"Diam\u00e8tre (cm)\", fontsize=14)\n",
      "ax.set_ylabel(\"Nombre d'arbres\", fontsize=14)\n",
      "ax.set_title(u\"R\u00e9partition par classes de diam\u00e8tres\\nen l'absence d'\u00e9claircie\", fontsize=16)\n",
      "width=0.5\n",
      "ax.set_xticks(arange(nb_classes) + width/2)\n",
      "ax.set_xticklabels(Ddistrib_sans['diametre'], rotation=70, fontsize=11)\n",
      "barres = ax.bar(arange(nb_classes), Ddistrib_sans['N'], width=width)"
     ],
     "language": "python",
     "metadata": {},
     "outputs": []
    },
    {
     "cell_type": "code",
     "collapsed": false,
     "input": [
      "Ddistrib_avec = genfromtxt(\"classes_diametre_avec_eclaircies.csv\", skiprows=1, names=True, dtype=['S5', 'i'], delimiter=\";\")"
     ],
     "language": "python",
     "metadata": {},
     "outputs": []
    },
    {
     "cell_type": "code",
     "collapsed": false,
     "input": [
      "nb_classes = Ddistrib_avec.size\n",
      "fig, ax = subplots()\n",
      "ax.set_xlabel(u\"Diam\u00e8tre (cm)\", fontsize=14)\n",
      "ax.set_ylabel(\"Nombre d'arbres\", fontsize=14)\n",
      "ax.set_title(u\"R\u00e9partition par classes de diam\u00e8tres\\navec des \u00e9claircies\", fontsize=16)\n",
      "width=0.5\n",
      "ax.set_xticks(arange(nb_classes) + width/2)\n",
      "ax.set_xticklabels(Ddistrib_avec['diametre'], rotation=70, fontsize=11)\n",
      "barres = ax.bar(arange(nb_classes), Ddistrib_avec['N'], width=width)"
     ],
     "language": "python",
     "metadata": {},
     "outputs": []
    },
    {
     "cell_type": "markdown",
     "metadata": {},
     "source": [
      "## Chargement de code externe"
     ]
    },
    {
     "cell_type": "markdown",
     "metadata": {},
     "source": [
      "La commande magique `%loadpy` charge un script depuis le Web :"
     ]
    },
    {
     "cell_type": "code",
     "collapsed": false,
     "input": [
      "%loadpy http://matplotlib.org/mpl_examples/pylab_examples/animation_demo.py"
     ],
     "language": "python",
     "metadata": {},
     "outputs": []
    },
    {
     "cell_type": "markdown",
     "metadata": {},
     "source": [
      "## IPython, ce n'est pas que pour Python"
     ]
    },
    {
     "cell_type": "markdown",
     "metadata": {},
     "source": [
      "Gr\u00e2ce \u00e0 la commande magique `%%script`, on peut ex\u00e9cuter dans IPython du code \u00e9crit dans d'autres langages. Pour l'instant, seuls bash, perl, ruby et R sont impl\u00e9ment\u00e9s."
     ]
    },
    {
     "cell_type": "code",
     "collapsed": false,
     "input": [
      "%%script perl\n",
      "$_=\"krJhruaesrltre c a cnp,ohet\";$_.=$1,print$2while s/(..)(.)//;"
     ],
     "language": "python",
     "metadata": {},
     "outputs": []
    },
    {
     "cell_type": "code",
     "collapsed": false,
     "input": [
      "%%script ruby\n",
      "puts \"Hello from Ruby #{RUBY_VERSION}\""
     ],
     "language": "python",
     "metadata": {},
     "outputs": []
    },
    {
     "cell_type": "markdown",
     "metadata": {},
     "source": [
      "Mais cela ne doit pas nous faire oublier que Python est la seule et unique Voie menant \u00e0 la V\u00e9rit\u00e9. Nous nous s\u00e9parerons donc sur les dix-neuf mantras de l'enseignement zen pythonicien :"
     ]
    },
    {
     "cell_type": "code",
     "collapsed": false,
     "input": [
      "import this"
     ],
     "language": "python",
     "metadata": {},
     "outputs": []
    }
   ],
   "metadata": {}
  }
 ]
}